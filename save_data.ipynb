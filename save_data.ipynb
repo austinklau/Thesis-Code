{
 "cells": [
  {
   "attachments": {},
   "cell_type": "markdown",
   "metadata": {},
   "source": [
    "Queries data from WRDS"
   ]
  },
  {
   "cell_type": "code",
   "execution_count": 138,
   "metadata": {},
   "outputs": [
    {
     "name": "stdout",
     "output_type": "stream",
     "text": [
      "Loading library list...\n",
      "Done\n"
     ]
    }
   ],
   "source": [
    "# Standard Imports\n",
    "import numpy as np\n",
    "import pandas as pd\n",
    "import pickle\n",
    "import datetime\n",
    "import itertools\n",
    "import wrds\n",
    "import matplotlib.pyplot as plt\n",
    "from sklearn import metrics\n",
    "from sklearn import linear_model as lm\n",
    "from sklearn.ensemble import RandomForestRegressor\n",
    "from sklearn.ensemble import RandomForestClassifier\n",
    "from sklearn.preprocessing import normalize\n",
    "from sklearn.preprocessing import StandardScaler\n",
    "from sklearn.model_selection import cross_val_score, train_test_split, GridSearchCV\n",
    "\n",
    "# Import Custom Utilities\n",
    "import thesis_utils as utils\n",
    "\n",
    "# Connect to WRDS\n",
    "db = wrds.Connection(wrds_username='akwlau')"
   ]
  },
  {
   "attachments": {},
   "cell_type": "markdown",
   "metadata": {},
   "source": [
    "PERMNO ID codes"
   ]
  },
  {
   "cell_type": "code",
   "execution_count": 139,
   "metadata": {},
   "outputs": [],
   "source": [
    "# Get permnos\n",
    "permnos = db.get_table(library='crsp', table='msp500list')\n",
    "permnos['permno'] = permnos['permno'].astype(int) # cast to int\n"
   ]
  },
  {
   "attachments": {},
   "cell_type": "markdown",
   "metadata": {},
   "source": [
    "Fama French Industries Categorizations"
   ]
  },
  {
   "cell_type": "code",
   "execution_count": 140,
   "metadata": {},
   "outputs": [],
   "source": [
    "industries = [None] * 12\n",
    "industries[1] = list(range(100,1000))+list(range(2000,2400))+list(range(2700,2750))+list(range(2770,2800))+list(range(3100,3200))+list(range(3940,3990))\n",
    "industries[2] = list(range(2500,2520))+list(range(2590,2600))+list(range(3630,3660))+list(range(3710,3712))+list(range(3714,3715))+list(range(3716,3717))+list(range(3750,3752))+list(range(3792,3793))+list(range(3900,3940))+list(range(3990,4000))\n",
    "industries[3] = list(range(2520,2590))+list(range(2600,2700))+list(range(2750,2770))+list(range(3000,3100))+list(range(3200,3570))+list(range(3580,3630))+list(range(3700,3710))+list(range(3712,3714))+list(range(3715,3716))+list(range(3717,3750))+list(range(3752,3792))+list(range(3793,3800))+list(range(3830,3840))+list(range(3860,3900))\n",
    "industries[4] = list(range(1200,1400))+list(range(2900,3000))\n",
    "industries[5] = list(range(2800,2830))+list(range(2840,2900))\n",
    "industries[6] = list(range(3570,3580))+list(range(3660,3693))+list(range(3694,3700))+list(range(3810,3830))+list(range(7370,7380))\n",
    "industries[7] = list(range(4800,4900))\n",
    "industries[8] = list(range(4900,4950))\n",
    "industries[9] = list(range(5000,6000))+list(range(7200,7300))+list(range(7600,7700))\n",
    "industries[10] = list(range(2830,2840))+list(range(3693,3694))+list(range(3840,3860))+list(range(8000,8100))\n",
    "industries[11] = list(range(6000,7000))\n",
    "\n",
    "ind_names = [None, 'NoDur', 'Durbl', 'Manuf', 'Enrgy', 'Chems', 'BusEq', 'Telcm', 'Utils', 'Shops', 'Hlth', 'Fin']\n",
    "industries_dict = {}\n",
    "for idx, sic_list in enumerate(industries):\n",
    "    if sic_list is not None:\n",
    "        for s in sic_list:\n",
    "            industries_dict.update({s:ind_names[idx]})"
   ]
  },
  {
   "attachments": {},
   "cell_type": "markdown",
   "metadata": {},
   "source": [
    "Query and pickle data"
   ]
  },
  {
   "cell_type": "code",
   "execution_count": 141,
   "metadata": {},
   "outputs": [
    {
     "name": "stdout",
     "output_type": "stream",
     "text": [
      "1993 Data Done\n",
      "1994 Data Done\n",
      "1995 Data Done\n",
      "1996 Data Done\n",
      "1997 Data Done\n",
      "1998 Data Done\n",
      "1999 Data Done\n",
      "2000 Data Done\n",
      "2001 Data Done\n",
      "2002 Data Done\n",
      "2003 Data Done\n",
      "2004 Data Done\n",
      "2005 Data Done\n",
      "2006 Data Done\n",
      "2007 Data Done\n",
      "2008 Data Done\n",
      "2009 Data Done\n",
      "2010 Data Done\n",
      "2011 Data Done\n",
      "2012 Data Done\n",
      "2013 Data Done\n",
      "2014 Data Done\n",
      "2015 Data Done\n",
      "2016 Data Done\n",
      "2017 Data Done\n",
      "2018 Data Done\n",
      "2019 Data Done\n",
      "2020 Data Done\n",
      "2021 Data Done\n",
      "2022 Data Done\n"
     ]
    }
   ],
   "source": [
    "for i in range(30): # 30\n",
    "    year = 1993 + i\n",
    "    # year = 2020\n",
    "\n",
    "    # Get stock data\n",
    "    first_trade_date_string = f'{year}-01-01'\n",
    "    first_trade_date = pd.Timestamp(first_trade_date_string).date() # date of start of trade period\n",
    "\n",
    "    first_trade_date_minus_three = first_trade_date - pd.offsets.DateOffset(years=3, days=10) # 750 + buffer\n",
    "    first_trade_date_plus_one = first_trade_date + pd.offsets.DateOffset(years=1, days=10) # 250 + buffer\n",
    "    data_start_date = first_trade_date_minus_three.strftime('%m/%d/%Y')\n",
    "    data_end_date = first_trade_date_plus_one.strftime('%m/%d/%Y')\n",
    "\n",
    "    # Stock time series + list of current permnos\n",
    "    data, current_permnos = utils.get_stock_data(db, permnos, data_start_date, data_end_date, first_trade_date)\n",
    "    # data['sic'] = [str(s)[:2] for s in data['hsiccd']] # add sic codes\n",
    "    data['ind'] = data.apply(lambda row: industries_dict.get(row['hsiccd'], 'Other'), axis=1) # create industries\n",
    "\n",
    "    pickle.dump((data, current_permnos), open( f\"Data/data_for{first_trade_date_string}_v2.p\", \"wb\" ))\n",
    "    print(f'{year} Data Done')\n",
    "    # print(data['hsiccd'].isna().sum(), (data['hsiccd'] == 0).sum())"
   ]
  }
 ],
 "metadata": {
  "kernelspec": {
   "display_name": "base",
   "language": "python",
   "name": "python3"
  },
  "language_info": {
   "codemirror_mode": {
    "name": "ipython",
    "version": 3
   },
   "file_extension": ".py",
   "mimetype": "text/x-python",
   "name": "python",
   "nbconvert_exporter": "python",
   "pygments_lexer": "ipython3",
   "version": "3.9.7"
  },
  "orig_nbformat": 4,
  "vscode": {
   "interpreter": {
    "hash": "dc25d6d833c698d4f0ee95a2f1853d8935e13d7ad37781fca0e3792af3ad2e6b"
   }
  }
 },
 "nbformat": 4,
 "nbformat_minor": 2
}
